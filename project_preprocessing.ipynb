{
 "cells": [
  {
   "cell_type": "markdown",
   "metadata": {},
   "source": [
    "# DSFB Course Project: Predicting IPO Share Price"
   ]
  },
  {
   "cell_type": "markdown",
   "metadata": {},
   "source": [
    "![](https://img.etimg.com/thumb/height-480,width-640,msid-64038320,imgsize-108012/stock-market2-getty-images.jpg)\n",
    "\n",
    "image source : https://img.etimg.com/thumb/height-480,width-640,msid-64038320,imgsize-108012/stock-market2-getty-images.jpg"
   ]
  },
  {
   "cell_type": "markdown",
   "metadata": {},
   "source": [
    "## Introduction"
   ]
  },
  {
   "cell_type": "markdown",
   "metadata": {},
   "source": [
    "An Initial Public Offering (IPO) is the process by which a private company becomes publicly traded on a stock exchange. The IPO company offers its shares to public investors in exchange of capital for sustaining expansion and growth. For this reason, IPOs are often issued by small or young companies, but they can also be done by large  companies looking to become publicly traded. During an IPO, the company obtains the assistance of an investment bank (underwriter), which helps determine the type, amount and price of the shares being offered. Decisions about the offering price are particularly important to avoid incurring excessive costs and maximize the capital received in the IPO. However at the end of the first trading day, price of each share can change due to market dynamics, which can lead to a price higher or lower than the offering one.\n",
    "\n",
    "During an Initial Public Offering (IPO), the firm’s management have to disclose all relevant information about their business in a filing with the government called the \"IPO Prospectus.\" Although there might be concerns about the public disclosure of sensitive information in the Prospectus that can help competitors, firms are encouraged to be as transparent as possible in order to avoid future litigation (lawsuits). A key textual field from the prospectus is:\n",
    "\n",
    "__Risk_Factors__: Firms have to disclose all relevant information about internal or external risk factors that might affect future business performances. This information is contained in the “Risk Factors” section of the IPO prospectus. \n",
    "\n",
    "The key pricing variables are:\n",
    "\n",
    "__Offering_Price__: the price at which a company sells its shares to investors.\n",
    "\n",
    "__Num_Shares__: the total number of outstanding shares.\n",
    "\n",
    "__Closing_Price__: (at the end of the first day of training) price at which shares trade in the open market, measured at the end of the first day of trading.\n",
    "\n",
    "In this project you are provided with IPO data of different firms that are collected from different sources. You can find the dataset under project directory in the course git repository under the name of *ipo.xlsx*. The description of other variables can be found in *variable_description.xlsx*."
   ]
  },
  {
   "cell_type": "markdown",
   "metadata": {},
   "source": [
    "This Notebook will be presented as follow :\n",
    "\n",
    "# Pre Processing\n",
    "#####  libraries & useful functions\n",
    "## 1 Import Dataset\n",
    "## 2 Pre-processing of Dates Features\n",
    "## 3 Pre-processsing of Special Features\n",
    "## 4 Pre-processing of Categorical Features\n",
    "## 5 Pre-processing of Ordinal Features\n",
    "## 6 Pre-processing of Numerical Features\n",
    "## 7 Pre-processing of Textual Features\n",
    "## 8 Target \n",
    "## 9 Feature Reduction\n",
    "        1 Correlation with target\n",
    "        2 Correlation between features\n",
    "## 10 Send CSV      \n",
    "# -----------------------------------------\n",
    "\n"
   ]
  },
  {
   "cell_type": "markdown",
   "metadata": {},
   "source": [
    "# Pre-Processing\n",
    "\n",
    "##### Libraries & Useful functions  "
   ]
  },
  {
   "cell_type": "code",
   "execution_count": 1,
   "metadata": {},
   "outputs": [
    {
     "name": "stdout",
     "output_type": "stream",
     "text": [
      "[nltk_data] Downloading package stopwords to\n",
      "[nltk_data]     C:\\Users\\Julien\\AppData\\Roaming\\nltk_data...\n",
      "[nltk_data]   Package stopwords is already up-to-date!\n"
     ]
    }
   ],
   "source": [
    "from bs4 import BeautifulSoup\n",
    "import pandas as pd     \n",
    "import seaborn as sns\n",
    "import re as re\n",
    "import datetime as dt\n",
    "import matplotlib.pyplot as plt\n",
    "import nltk\n",
    "\n",
    "nltk.download('stopwords')\n",
    "from nltk.corpus import stopwords \n",
    "from nltk.stem import SnowballStemmer\n",
    "\n",
    "from threading import Thread\n",
    "from datetime import datetime, timedelta\n",
    "from sklearn.base import TransformerMixin\n",
    "from sklearn.metrics import roc_curve\n",
    "from sklearn.feature_extraction.text import CountVectorizer,TfidfVectorizer"
   ]
  },
  {
   "cell_type": "code",
   "execution_count": 2,
   "metadata": {},
   "outputs": [],
   "source": [
    "from preprocessing_functions import *"
   ]
  },
  {
   "cell_type": "markdown",
   "metadata": {},
   "source": [
    "## 1 Import Dataset \n",
    "\n",
    "##### Import,  explore dataset and check missing values"
   ]
  },
  {
   "cell_type": "code",
   "execution_count": 3,
   "metadata": {},
   "outputs": [
    {
     "name": "stderr",
     "output_type": "stream",
     "text": [
      "C:\\Users\\Julien\\Anaconda3\\lib\\site-packages\\pandas\\core\\frame.py:6211: FutureWarning: Sorting because non-concatenation axis is not aligned. A future version\n",
      "of pandas will change to not sort by default.\n",
      "\n",
      "To accept the future behavior, pass 'sort=False'.\n",
      "\n",
      "To retain the current behavior and silence the warning, pass 'sort=True'.\n",
      "\n",
      "  sort=sort)\n"
     ]
    }
   ],
   "source": [
    "#read dataset\n",
    "DATA_FOLDER = 'data'\n",
    "ipo = pd.read_excel(DATA_FOLDER + '/ipo.xlsx')\n",
    "ipo_to_predict = pd.read_excel(DATA_FOLDER+'/ipo_to_predict.xlsx')\n",
    "\n",
    "#merge\n",
    "ipo = ipo.append(ipo_to_predict, ignore_index=True)"
   ]
  },
  {
   "cell_type": "markdown",
   "metadata": {},
   "source": [
    "#### Declaration of categorization table to use in the data preprocessing"
   ]
  },
  {
   "cell_type": "markdown",
   "metadata": {},
   "source": [
    "##### Date Columns"
   ]
  },
  {
   "cell_type": "code",
   "execution_count": 4,
   "metadata": {},
   "outputs": [],
   "source": [
    "date_col = ['amd_date', 'lockup_date', 'lockup_days']"
   ]
  },
  {
   "cell_type": "markdown",
   "metadata": {},
   "source": [
    "##### Ordinal Columns"
   ]
  },
  {
   "cell_type": "code",
   "execution_count": 5,
   "metadata": {},
   "outputs": [],
   "source": [
    "ord_col = []"
   ]
  },
  {
   "cell_type": "markdown",
   "metadata": {},
   "source": [
    "##### Numerical Columns"
   ]
  },
  {
   "cell_type": "code",
   "execution_count": 6,
   "metadata": {},
   "outputs": [],
   "source": [
    "num_col = ['amd_nbr','round_tot','mgt_fee', 'gross_spread', 'min_round_vexp','avg_round_vexp', 'max_round_vexp',\\\n",
    "           'min_firm_amt_vexp', 'avg_firm_amt_vexp', 'max_firm_amt_vexp',\\\n",
    "          'min_fund_amt_vexp', 'max_fund_amt_vexp']"
   ]
  },
  {
   "cell_type": "markdown",
   "metadata": {},
   "source": [
    "##### Categorical Columns"
   ]
  },
  {
   "cell_type": "code",
   "execution_count": 7,
   "metadata": {},
   "outputs": [],
   "source": [
    "cat_col = ['exch', 'mgrs_role', 'mgrs','all_sic' ,'description','ht_ind', 'ht_ind_gr', 'ind_group','legal', 'uop' ]"
   ]
  },
  {
   "cell_type": "markdown",
   "metadata": {},
   "source": [
    "##### Columns to Drop"
   ]
  },
  {
   "cell_type": "code",
   "execution_count": 8,
   "metadata": {},
   "outputs": [],
   "source": [
    "columns_to_drop = ['ID','dj_avg_2','nasdaq_avg_2','SP2','SP4']"
   ]
  },
  {
   "cell_type": "markdown",
   "metadata": {},
   "source": [
    "#### Explore data set"
   ]
  },
  {
   "cell_type": "code",
   "execution_count": 9,
   "metadata": {},
   "outputs": [
    {
     "data": {
      "text/html": [
       "<div>\n",
       "<style scoped>\n",
       "    .dataframe tbody tr th:only-of-type {\n",
       "        vertical-align: middle;\n",
       "    }\n",
       "\n",
       "    .dataframe tbody tr th {\n",
       "        vertical-align: top;\n",
       "    }\n",
       "\n",
       "    .dataframe thead th {\n",
       "        text-align: right;\n",
       "    }\n",
       "</style>\n",
       "<table border=\"1\" class=\"dataframe\">\n",
       "  <thead>\n",
       "    <tr style=\"text-align: right;\">\n",
       "      <th></th>\n",
       "      <th>Closing_Price</th>\n",
       "      <th>ID</th>\n",
       "      <th>Num_Shares</th>\n",
       "      <th>Offering_Price</th>\n",
       "      <th>Price_All</th>\n",
       "      <th>Price_Change_All</th>\n",
       "      <th>Price_Change_Non_Textual</th>\n",
       "      <th>Price_Change_Textual</th>\n",
       "      <th>Risk_Factors</th>\n",
       "      <th>SEC_fee</th>\n",
       "      <th>...</th>\n",
       "      <th>tot_ass_after</th>\n",
       "      <th>tot_inv</th>\n",
       "      <th>tot_mgtfee</th>\n",
       "      <th>tot_proceeds</th>\n",
       "      <th>tot_shs_offered</th>\n",
       "      <th>underw_fee</th>\n",
       "      <th>uop</th>\n",
       "      <th>vc</th>\n",
       "      <th>veic_descr</th>\n",
       "      <th>zip</th>\n",
       "    </tr>\n",
       "  </thead>\n",
       "  <tbody>\n",
       "  </tbody>\n",
       "</table>\n",
       "<p>0 rows × 159 columns</p>\n",
       "</div>"
      ],
      "text/plain": [
       "Empty DataFrame\n",
       "Columns: [Closing_Price, ID, Num_Shares, Offering_Price, Price_All, Price_Change_All, Price_Change_Non_Textual, Price_Change_Textual, Risk_Factors, SEC_fee, SP1, SP2, SP3, SP4, Your_Bet, acc_fee, all_sic, amd_date, amd_hp, amd_lp, amd_mp, amd_pr_amt, amd_pr_shs_pct, amd_pr_shst_tot, amd_shst_tot, amt_filed, auditor, avg_firm_amt_vexp, avg_round_vexp, bluesky, book_proceeds, book_proceeds_ovt, br, bvps, bvps_bef_offer, city, comm_eq, comm_eq_bef, date_amd, date_found, days_in_registr, deal_size, description, dj_avg_1, dj_avg_2, exch, exp_incl_gross, exp_pctofproceeds, filing_date, first_trade_date, free_float, gross_spread, gross_spread_allmkt, h_fil_p, ht_ind, ht_ind_gr, ind_group, industry, int_aft, int_bef, intern)shs, ipo_yr_ritt, issue_date, issuer, l_fil_p, lastamd_tot, lbo, legal, legal_exp, lockup_date, lockup_days, lockup_flag, m_fil_p, max_firm_amt_vexp, max_fund_amt_vexp, max_round_vexp, mgrs, mgrs_role, mgt_fee, min_firm_amt_vexp, min_fund_amt_vexp, min_round_vexp, misc_exp, mkt_cap, mktval_aft, mktval_bef, naic_decr, naic_primary, nasdaq_avg_1, nasdaq_avg_2, nation, num_amd, num_bokr, num_bokr_up, num_emp, num_emp_date, num_firms_vexp, num_funds_vexp, num_lead_mgr, num_mgrs, ...]\n",
       "Index: []\n",
       "\n",
       "[0 rows x 159 columns]"
      ]
     },
     "execution_count": 9,
     "metadata": {},
     "output_type": "execute_result"
    }
   ],
   "source": [
    "#Check if duplicates\n",
    "ipo[ipo.astype(str).duplicated()==True]"
   ]
  },
  {
   "cell_type": "code",
   "execution_count": 10,
   "metadata": {},
   "outputs": [
    {
     "data": {
      "text/plain": [
       "159"
      ]
     },
     "execution_count": 10,
     "metadata": {},
     "output_type": "execute_result"
    }
   ],
   "source": [
    "#Number of actual features\n",
    "len(ipo.columns)"
   ]
  },
  {
   "cell_type": "code",
   "execution_count": 11,
   "metadata": {},
   "outputs": [
    {
     "data": {
      "text/plain": [
       "159"
      ]
     },
     "execution_count": 11,
     "metadata": {},
     "output_type": "execute_result"
    }
   ],
   "source": [
    "# check missing values\n",
    "nb_missing_values = sum(map(any, ipo.isnull()))\n",
    "nb_missing_values"
   ]
  },
  {
   "cell_type": "code",
   "execution_count": 12,
   "metadata": {},
   "outputs": [],
   "source": [
    "#Count missing \n",
    "features_with_nan = len(ipo) - ipo.count()\n",
    "features_with_nan=features_with_nan[features_with_nan!=0]\n",
    "nan_percentage=(features_with_nan/len(ipo)).to_frame('percentage').reset_index().rename(columns={'index':'feature'})"
   ]
  },
  {
   "cell_type": "code",
   "execution_count": 13,
   "metadata": {},
   "outputs": [
    {
     "data": {
      "text/html": [
       "<div>\n",
       "<style scoped>\n",
       "    .dataframe tbody tr th:only-of-type {\n",
       "        vertical-align: middle;\n",
       "    }\n",
       "\n",
       "    .dataframe tbody tr th {\n",
       "        vertical-align: top;\n",
       "    }\n",
       "\n",
       "    .dataframe thead th {\n",
       "        text-align: right;\n",
       "    }\n",
       "</style>\n",
       "<table border=\"1\" class=\"dataframe\">\n",
       "  <thead>\n",
       "    <tr style=\"text-align: right;\">\n",
       "      <th></th>\n",
       "      <th>feature</th>\n",
       "      <th>percentage</th>\n",
       "    </tr>\n",
       "  </thead>\n",
       "  <tbody>\n",
       "    <tr>\n",
       "      <th>1</th>\n",
       "      <td>Price_All</td>\n",
       "      <td>1.000000</td>\n",
       "    </tr>\n",
       "    <tr>\n",
       "      <th>2</th>\n",
       "      <td>Price_Change_All</td>\n",
       "      <td>1.000000</td>\n",
       "    </tr>\n",
       "    <tr>\n",
       "      <th>3</th>\n",
       "      <td>Price_Change_Non_Textual</td>\n",
       "      <td>1.000000</td>\n",
       "    </tr>\n",
       "    <tr>\n",
       "      <th>4</th>\n",
       "      <td>Price_Change_Textual</td>\n",
       "      <td>1.000000</td>\n",
       "    </tr>\n",
       "    <tr>\n",
       "      <th>6</th>\n",
       "      <td>Your_Bet</td>\n",
       "      <td>1.000000</td>\n",
       "    </tr>\n",
       "    <tr>\n",
       "      <th>22</th>\n",
       "      <td>bvps_bef_offer</td>\n",
       "      <td>0.592113</td>\n",
       "    </tr>\n",
       "    <tr>\n",
       "      <th>39</th>\n",
       "      <td>int_aft</td>\n",
       "      <td>0.594416</td>\n",
       "    </tr>\n",
       "    <tr>\n",
       "      <th>40</th>\n",
       "      <td>int_bef</td>\n",
       "      <td>0.591249</td>\n",
       "    </tr>\n",
       "    <tr>\n",
       "      <th>41</th>\n",
       "      <td>intern)shs</td>\n",
       "      <td>0.800518</td>\n",
       "    </tr>\n",
       "    <tr>\n",
       "      <th>66</th>\n",
       "      <td>pb_value</td>\n",
       "      <td>0.593552</td>\n",
       "    </tr>\n",
       "    <tr>\n",
       "      <th>69</th>\n",
       "      <td>pct_int_shs</td>\n",
       "      <td>0.800518</td>\n",
       "    </tr>\n",
       "  </tbody>\n",
       "</table>\n",
       "</div>"
      ],
      "text/plain": [
       "                     feature  percentage\n",
       "1                  Price_All    1.000000\n",
       "2           Price_Change_All    1.000000\n",
       "3   Price_Change_Non_Textual    1.000000\n",
       "4       Price_Change_Textual    1.000000\n",
       "6                   Your_Bet    1.000000\n",
       "22            bvps_bef_offer    0.592113\n",
       "39                   int_aft    0.594416\n",
       "40                   int_bef    0.591249\n",
       "41                intern)shs    0.800518\n",
       "66                  pb_value    0.593552\n",
       "69               pct_int_shs    0.800518"
      ]
     },
     "execution_count": 13,
     "metadata": {},
     "output_type": "execute_result"
    }
   ],
   "source": [
    "features_nan_percentage = nan_percentage[nan_percentage.percentage>0.5]\n",
    "features_nan_percentage"
   ]
  },
  {
   "cell_type": "code",
   "execution_count": 14,
   "metadata": {},
   "outputs": [],
   "source": [
    "#Drop column with more than 50% of missing values\n",
    "list_to_append = features_nan_percentage.feature.values\n",
    "columns_to_drop = add_list_to_list(list_to_append, columns_to_drop)"
   ]
  },
  {
   "cell_type": "code",
   "execution_count": 15,
   "metadata": {},
   "outputs": [
    {
     "data": {
      "text/plain": [
       "array([dtype('float64'), dtype('O'), dtype('int64'), dtype('<M8[ns]')],\n",
       "      dtype=object)"
      ]
     },
     "execution_count": 15,
     "metadata": {},
     "output_type": "execute_result"
    }
   ],
   "source": [
    "#Check type of values\n",
    "ipo.dtypes.unique()"
   ]
  },
  {
   "cell_type": "code",
   "execution_count": 16,
   "metadata": {},
   "outputs": [],
   "source": [
    "#Devide dataframe in function of type.\n",
    "ints = ipo.select_dtypes(include='int64')\n",
    "floats = ipo.select_dtypes(include='float64')\n",
    "objects = ipo.select_dtypes(include='object')\n",
    "timestamps = ipo.select_dtypes(include='M8[ns]')"
   ]
  },
  {
   "cell_type": "code",
   "execution_count": 17,
   "metadata": {},
   "outputs": [],
   "source": [
    "# make a copy of the df\n",
    "ipo_processing = ipo.copy()"
   ]
  },
  {
   "cell_type": "markdown",
   "metadata": {},
   "source": [
    "## 2 Pre-processsing of Date Features\n"
   ]
  },
  {
   "cell_type": "markdown",
   "metadata": {},
   "source": [
    "### amd_date\n"
   ]
  },
  {
   "cell_type": "code",
   "execution_count": 18,
   "metadata": {},
   "outputs": [],
   "source": [
    "#calculate number of amendment\n",
    "ipo_processing['amd_nbr'] = ipo['amd_date'].apply(lambda x:  str(x).count('\\n')+1 if( str(x).count('\\n') > 0) else ( 1 if(len(str(x)) > 0) else 0 ) )\n",
    "num_col.append('amd_nbr')\n",
    "columns_to_drop.append('amd_date')"
   ]
  },
  {
   "cell_type": "markdown",
   "metadata": {},
   "source": [
    "### lockup_date"
   ]
  },
  {
   "cell_type": "code",
   "execution_count": 19,
   "metadata": {},
   "outputs": [
    {
     "data": {
      "text/plain": [
       "<matplotlib.axes._subplots.AxesSubplot at 0x3f13f835f8>"
      ]
     },
     "execution_count": 19,
     "metadata": {},
     "output_type": "execute_result"
    },
    {
     "data": {
      "image/png": "[encoded data removed]",
      "text/plain": [
       "<Figure size 432x288 with 1 Axes>"
      ]
     },
     "metadata": {
      "needs_background": "light"
     },
     "output_type": "display_data"
    }
   ],
   "source": [
    "#Check if missing values are the same\n",
    "sns.heatmap(ipo[['lockup_date','lockup_days', ]].isnull(), cbar=False)"
   ]
  },
  {
   "cell_type": "code",
   "execution_count": 20,
   "metadata": {},
   "outputs": [
    {
     "name": "stdout",
     "output_type": "stream",
     "text": [
      "#nan :646\n"
     ]
    }
   ],
   "source": [
    "#Get days only last \n",
    "ipo_processing['lockup_last_duration'] = ipo['lockup_days'].apply(lambda x: str(x) if( pd.isnull(x) ) else str(x)[-3:] )\n",
    "#Cast it as a number\n",
    "ipo_processing['lockup_last_duration'] = ipo_processing['lockup_last_duration'].apply(lambda x: int(x) if( str(x).isdigit() ) else np.nan )\n",
    "#replace missing values\n",
    "ipo_processing['lockup_last_duration'] = replace_nan(ipo_processing['lockup_last_duration'], '')\n",
    "\n",
    "#Add\n",
    "num_col.append('lockup_last_duration')\n",
    "\n",
    "#We remove lockup_date because this information is rundandant in the lockup days we can calculate from the frist trade date\n",
    "columns_to_drop.append('lockup_date')"
   ]
  },
  {
   "cell_type": "markdown",
   "metadata": {},
   "source": [
    "### offer_date, first_trade_date, issue_date"
   ]
  },
  {
   "cell_type": "code",
   "execution_count": 21,
   "metadata": {},
   "outputs": [
    {
     "data": {
      "text/plain": [
       "<matplotlib.axes._subplots.AxesSubplot at 0x3f14541dd8>"
      ]
     },
     "execution_count": 21,
     "metadata": {},
     "output_type": "execute_result"
    },
    {
     "data": {
      "image/png": "[encoded data removed]",
      "text/plain": [
       "<Figure size 432x288 with 1 Axes>"
      ]
     },
     "metadata": {
      "needs_background": "light"
     },
     "output_type": "display_data"
    }
   ],
   "source": [
    "#Compare number of missing value offer_date and issue_date ares nearly the same.\n",
    "sns.heatmap(ipo[['issue_date','offer_date', 'first_trade_date']].isnull(), cbar=False)"
   ]
  },
  {
   "cell_type": "code",
   "execution_count": 22,
   "metadata": {},
   "outputs": [
    {
     "name": "stdout",
     "output_type": "stream",
     "text": [
      "#nan :0\n",
      "#nan :0\n",
      "#nan :334\n"
     ]
    }
   ],
   "source": [
    "#Replace missing value by the most frequent one and get timestamp to compare datas\n",
    "for columnWeTransform in ['issue_date','offer_date', 'first_trade_date']:\n",
    "    ipo_processing[columnWeTransform] = ipo[columnWeTransform].apply(lambda x: str(x)[0:10])\n",
    "    ipo_processing[columnWeTransform] = replace_nan(ipo[columnWeTransform], '1900-01-01')\n",
    "    ipo_processing[columnWeTransform] = ipo_processing[columnWeTransform].apply(lambda x: pd.to_datetime(x).timestamp())"
   ]
  },
  {
   "cell_type": "code",
   "execution_count": 23,
   "metadata": {},
   "outputs": [
    {
     "data": {
      "text/plain": [
       "<matplotlib.axes._subplots.AxesSubplot at 0x3f14391390>"
      ]
     },
     "execution_count": 23,
     "metadata": {},
     "output_type": "execute_result"
    },
    {
     "data": {
      "image/png": "[encoded data removed]",
      "text/plain": [
       "<Figure size 1440x720 with 1 Axes>"
      ]
     },
     "metadata": {
      "needs_background": "light"
     },
     "output_type": "display_data"
    }
   ],
   "source": [
    "#Look at the values\n",
    "plt.figure(figsize=(20,10))\n",
    "sns.heatmap(ipo_processing[['issue_date','offer_date', 'first_trade_date']], cbar=False)"
   ]
  },
  {
   "cell_type": "code",
   "execution_count": 24,
   "metadata": {},
   "outputs": [
    {
     "name": "stdout",
     "output_type": "stream",
     "text": [
      "#nan :0\n",
      "#nan :0\n"
     ]
    }
   ],
   "source": [
    "#drop first_trade_date and issue_date and keep offer_date\n",
    "columns_to_drop.append('first_trade_date')\n",
    "columns_to_drop.append('issue_date')\n",
    "columnWeTransform = 'offer_date'\n",
    "\n",
    "# read dataset of the american 10 year bond rate\n",
    "# This give us more info on the actual risk premium\n",
    "rate = pd.read_csv(DATA_FOLDER + '/HQMCB10YR.csv')\n",
    "rate.rename(columns = {'DATE':columnWeTransform, 'HQMCB10YR':'rate'}, inplace = True)\n",
    "rate[columnWeTransform] = rate[columnWeTransform].apply(lambda x: pd.to_datetime(x))\n",
    "rate.head(2)\n",
    "\n",
    "#Merge rate on the dataframe\n",
    "ipo_processing[columnWeTransform] = ipo[columnWeTransform].apply(lambda x: pd.to_datetime(str(x.year)+'-'+str(x.month)+'-01') if( not(pd.isna(x))) else pd.to_datetime('1900-01-01'))\n",
    "ipo_processing = ipo_processing.merge(rate, how='left')\n",
    "columns_to_drop.append(columnWeTransform)\n",
    "num_col.append('rate')\n",
    "\n",
    "#Replace missing value rate\n",
    "ipo_processing.rate = replace_nan(ipo_processing.rate, '')\n",
    "\n",
    "#Replace missing value by the most frequent one.\n",
    "ipo_processing[columnWeTransform] = ipo[columnWeTransform].apply(lambda x: str(x)[0:10])\n",
    "ipo_processing[columnWeTransform] = replace_nan(ipo[columnWeTransform], '1900-01-01')\n",
    "ipo_processing[columnWeTransform] = ipo_processing[columnWeTransform].apply(lambda x: pd.to_datetime(x))\n",
    "\n",
    "#Create new features\n",
    "# Timestamp\n",
    "ipo_processing['timestamp'] = ipo_processing[columnWeTransform].apply(lambda x: dt.datetime(year=int(x.year), month=int(x.month), day=int(x.day)).timestamp())\n",
    "num_col.append('timestamp')\n",
    "# Year\n",
    "ipo_processing['year'] = ipo_processing[columnWeTransform].apply(lambda x: x.year)\n",
    "num_col.append('year')\n",
    "\n",
    "# Convert circular temporal features into sin and cos features\n",
    "# Month\n",
    "ipo_processing['month'] = ipo_processing[columnWeTransform].apply(lambda x: x.month)\n",
    "ipo_processing['month_sin'] = np.sin((ipo_processing.month-1)*(2.*np.pi/12))\n",
    "ipo_processing['month_cos'] = np.cos((ipo_processing.month-1)*(2.*np.pi/12))\n",
    "columns_to_drop.append('month')\n",
    "num_col.append('month_sin')\n",
    "num_col.append('month_cos')\n",
    "# Day\n",
    "ipo_processing['day'] = ipo_processing[columnWeTransform].apply(lambda x: x.day)\n",
    "ipo_processing['day_sin'] = np.sin((ipo_processing.day-1)*(2.*np.pi/31))\n",
    "ipo_processing['day_cos'] = np.cos((ipo_processing.day-1)*(2.*np.pi/31))\n",
    "columns_to_drop.append('day')\n",
    "num_col.append('day_sin')\n",
    "num_col.append('day_cos')\n",
    "# Day of week\n",
    "ipo_processing['dow'] = ipo_processing[columnWeTransform].apply(lambda x: x.dayofweek)\n",
    "ipo_processing['dow_sin'] = np.sin((ipo_processing.dow-1)*(2.*np.pi/7))\n",
    "ipo_processing['dow_cos'] = np.cos((ipo_processing.dow-1)*(2.*np.pi/7))\n",
    "columns_to_drop.append('dow')\n",
    "num_col.append('dow_sin')\n",
    "num_col.append('dow_cos')\n",
    "\n",
    "columns_to_drop.append(columnWeTransform)"
   ]
  },
  {
   "cell_type": "markdown",
   "metadata": {},
   "source": [
    "### date_amd"
   ]
  },
  {
   "cell_type": "code",
   "execution_count": 25,
   "metadata": {},
   "outputs": [
    {
     "name": "stdout",
     "output_type": "stream",
     "text": [
      "#nan :11\n"
     ]
    }
   ],
   "source": [
    "#Convert from excel date to datetime\n",
    "ipo_processing['date_amd'] = replace_nan(ipo['date_amd'], '')\n",
    "ipo_processing['date_amd'] = ipo_processing['date_amd'].apply(lambda x: from_excel_ordinal(x) )\n",
    "\n",
    "#Calculate difference between date_amd and offer_date save number of days as int\n",
    "ipo_processing['offer_date'] = ipo['offer_date'].apply(lambda x: pd.to_datetime(x) )\n",
    "ipo_processing['time_amd'] = ipo_processing.apply(lambda x: x['offer_date']-x['date_amd'], axis=1 )\n",
    "ipo_processing['time_amd'] = ipo_processing['time_amd'].apply(lambda x: x.days)\n",
    "num_col.append('time_amd')\n",
    "\n",
    "#column to drop:\n",
    "columns_to_drop.append('date_amd')"
   ]
  },
  {
   "cell_type": "markdown",
   "metadata": {},
   "source": [
    "## 3 Pre-processsing of Special Features\n"
   ]
  },
  {
   "cell_type": "markdown",
   "metadata": {},
   "source": [
    "### description"
   ]
  },
  {
   "cell_type": "markdown",
   "metadata": {},
   "source": [
    "We split it into 2 one numerical and second categorical"
   ]
  },
  {
   "cell_type": "code",
   "execution_count": 26,
   "metadata": {},
   "outputs": [
    {
     "data": {
      "text/plain": [
       "0    5,000,000.0 Common Shares\n",
       "1    6,898,541.0 Common Shares\n",
       "Name: description, dtype: object"
      ]
     },
     "execution_count": 26,
     "metadata": {},
     "output_type": "execute_result"
    }
   ],
   "source": [
    "ipo['description'].head(2)"
   ]
  },
  {
   "cell_type": "code",
   "execution_count": 27,
   "metadata": {},
   "outputs": [],
   "source": [
    "# delete the ',' in the features description\n",
    "ipo_processing['description'] = ipo['description'].str.replace(',','',regex=False)\n",
    "\n",
    "# split description into 2 string\n",
    "split_description = ipo_processing.description.str.split('.0 ')\n",
    "\n",
    "# create desctiption_numeric as the nb written in description \n",
    "ipo_processing['description_numeric']= split_description.apply(lambda x: int(x[0]))\n",
    "num_col.append('description_numeric')\n",
    "\n",
    "# create description cat as the category of the number of shares\n",
    "ipo_processing['description_cat'] =  split_description.apply(lambda x: x[1])\n",
    "cat_col.append('description_cat')\n",
    "\n",
    "# drop description\n",
    "columns_to_drop.append('description')"
   ]
  },
  {
   "cell_type": "markdown",
   "metadata": {},
   "source": [
    "### all_sic"
   ]
  },
  {
   "cell_type": "markdown",
   "metadata": {},
   "source": [
    "We will reduce this number by a 2 digit categories for all_sic"
   ]
  },
  {
   "cell_type": "code",
   "execution_count": 28,
   "metadata": {},
   "outputs": [],
   "source": [
    "ipo_processing.all_sic = ipo.all_sic.str.split('/')\n",
    "\n",
    "ipo_processing.all_sic = ipo_processing.all_sic.apply(lambda x: [a[:2] for a in x])"
   ]
  },
  {
   "cell_type": "markdown",
   "metadata": {},
   "source": [
    "We will use this file to reduce the number of categories:"
   ]
  },
  {
   "cell_type": "code",
   "execution_count": 29,
   "metadata": {},
   "outputs": [],
   "source": [
    "all_sic_mapping = pd.read_excel(DATA_FOLDER + '/all_sic_mapping.xlsx',delimiter = ',')"
   ]
  },
  {
   "cell_type": "code",
   "execution_count": 30,
   "metadata": {},
   "outputs": [],
   "source": [
    "## Cleaning file:\n",
    "all_sic_mapping.range_sic = all_sic_mapping.range_sic.str.split('-')\n",
    "all_sic_mapping.range_sic= all_sic_mapping.range_sic.apply(lambda x: [int(a[:2]) for a in x])\n",
    "all_sic_mapping.range_sic = all_sic_mapping.range_sic.apply(lambda x: np.arange(x[0],x[1]+1))"
   ]
  },
  {
   "cell_type": "code",
   "execution_count": 31,
   "metadata": {},
   "outputs": [
    {
     "name": "stderr",
     "output_type": "stream",
     "text": [
      "C:\\Users\\Julien\\Anaconda3\\lib\\site-packages\\pandas\\core\\generic.py:4405: SettingWithCopyWarning: \n",
      "A value is trying to be set on a copy of a slice from a DataFrame.\n",
      "Try using .loc[row_indexer,col_indexer] = value instead\n",
      "\n",
      "See the caveats in the documentation: http://pandas.pydata.org/pandas-docs/stable/indexing.html#indexing-view-versus-copy\n",
      "  self[name] = value\n"
     ]
    }
   ],
   "source": [
    "## Map all_sic values to new ones\n",
    "splitted = all_sic_mapping.range_sic.apply(pd.Series).stack().reset_index(level = 1,drop = True).to_frame('range')\n",
    "merged = pd.merge(splitted,all_sic_mapping,left_on = splitted.index, right_on=  all_sic_mapping.index,how = 'left')\n",
    "merged_2 = merged[['range','cat']]\n",
    "merged_2.range = merged_2.range.astype(int)\n",
    "merged_2.set_index('range',inplace = True)\n",
    "\n",
    "#Apply to the dataset\n",
    "ipo_processing.all_sic = ipo_processing.all_sic.apply(lambda x : [merged_2.loc[int(a)] if (int(a) in merged_2.index.values) else int(a) for a in x ] )\n",
    "ipo_processing.all_sic = ipo_processing.all_sic.apply(lambda x: [item for sublist in x for item in sublist])"
   ]
  },
  {
   "cell_type": "code",
   "execution_count": 32,
   "metadata": {},
   "outputs": [],
   "source": [
    "ipo_processing = pd.concat([ipo_processing,pd.get_dummies(ipo_processing.all_sic.apply(pd.Series).stack()).sum(level=0)],axis = 1)\n",
    "\n",
    "#Add new categorical col\n",
    "cat_col = add_list_to_list(all_sic_mapping.cat, cat_col)\n",
    "\n",
    "#Columns to drop\n",
    "columns_to_drop.append('all_sic')\n"
   ]
  },
  {
   "cell_type": "markdown",
   "metadata": {},
   "source": [
    "### zip\n",
    "We will use this file 'us_postal_codes.csv' to get cities and state to replace where there is missing values"
   ]
  },
  {
   "cell_type": "code",
   "execution_count": 33,
   "metadata": {},
   "outputs": [
    {
     "name": "stdout",
     "output_type": "stream",
     "text": [
      "Number of city replaced : 1\n",
      "Number of state replaced : 0\n"
     ]
    },
    {
     "name": "stderr",
     "output_type": "stream",
     "text": [
      "C:\\Users\\Julien\\Anaconda3\\lib\\site-packages\\pandas\\core\\indexing.py:189: SettingWithCopyWarning: \n",
      "A value is trying to be set on a copy of a slice from a DataFrame\n",
      "\n",
      "See the caveats in the documentation: http://pandas.pydata.org/pandas-docs/stable/indexing.html#indexing-view-versus-copy\n",
      "  self._setitem_with_indexer(indexer, value)\n"
     ]
    }
   ],
   "source": [
    "#Read us postal file\n",
    "us_zip = pd.read_csv(DATA_FOLDER + '/us_postal_codes.csv', sep=',')\n",
    "us_zip.rename(columns={'Zip Code': 'zip', 'Place Name':'city_zip', 'State':'state_zip'}, inplace=True)\n",
    "\n",
    "# Drop infos that we don't want\n",
    "us_zip = us_zip.drop(columns=['State Abbreviation', 'County', 'Latitude', 'Longitude'])\n",
    "us_zip.head()\n",
    "\n",
    "#Merge in function of the ZIP code\n",
    "ipo_processing.zip = ipo.zip.apply(lambda x: str(x)[:5])\n",
    "ipo_processing.zip = ipo_processing.zip.apply(lambda x: int(x) if (str.isdigit(x)) else 0 )\n",
    "ipo_processing['zip'] = ipo_processing.apply(lambda x: int(str(x['zip'])[:5]) if ( str(x['nation']) == 'United States' ) else 0 , axis=1)\n",
    "ipo_processing = ipo_processing.merge(us_zip, how='left')\n",
    "ipo_processing.state.fillna('Outside US', inplace=True)\n",
    "\n",
    "#Replace where missing city and stateS\n",
    "print(\"Number of city replaced : \" + str(ipo_processing['city'].isna().sum() - ipo_processing['city_zip'].loc[ipo_processing['city'].isna()].isna().sum()))\n",
    "ipo_processing['city'].loc[ipo_processing['city'].isna()] = ipo_processing.loc[ipo_processing['city'].isna()]['city_zip']\n",
    "\n",
    "print(\"Number of state replaced : \" + str(ipo_processing['state'].isna().sum() - ipo_processing['state_zip'].loc[ipo_processing['state'].isna()].isna().sum()))\n",
    "ipo_processing['state'].loc[ipo_processing['state'].isna()] = ipo_processing.loc[ipo_processing['state'].isna()]['state_zip']\n",
    "\n",
    "#Remove city_zip and zip\n",
    "columns_to_drop.append('state_zip')\n",
    "columns_to_drop.append('city_zip')\n",
    "columns_to_drop.append('zip')"
   ]
  },
  {
   "cell_type": "markdown",
   "metadata": {},
   "source": [
    "## 4 Pre-processing of Categorical Features\n"
   ]
  },
  {
   "cell_type": "markdown",
   "metadata": {},
   "source": [
    "### issuer\n",
    "\n",
    "Issuer is not relevant because has same number of issuer than number of row"
   ]
  },
  {
   "cell_type": "code",
   "execution_count": 34,
   "metadata": {},
   "outputs": [
    {
     "data": {
      "text/plain": [
       "True"
      ]
     },
     "execution_count": 34,
     "metadata": {},
     "output_type": "execute_result"
    }
   ],
   "source": [
    "len(ipo['issuer']) == len(ipo.issuer.unique())"
   ]
  },
  {
   "cell_type": "code",
   "execution_count": 35,
   "metadata": {},
   "outputs": [],
   "source": [
    "columns_to_drop.append('issuer')"
   ]
  },
  {
   "cell_type": "markdown",
   "metadata": {},
   "source": [
    "### Processing categories with \\n separator"
   ]
  },
  {
   "cell_type": "code",
   "execution_count": 36,
   "metadata": {},
   "outputs": [
    {
     "name": "stdout",
     "output_type": "stream",
     "text": [
      "processing column mgrs_role\n",
      "#nan :0\n",
      "processing column mgrs\n",
      "#nan :0\n",
      "processing column ht_ind_gr\n",
      "#nan :2\n",
      "processing column ht_ind\n",
      "#nan :2\n",
      "processing column uop\n",
      "#nan :0\n",
      "processing column legal\n",
      "#nan :0\n",
      "processing column exch\n",
      "#nan :0\n",
      "processing column br\n",
      "#nan :0\n"
     ]
    }
   ],
   "source": [
    "columns_with_n = ['mgrs_role','mgrs','ht_ind_gr','ht_ind','uop','legal','exch','br']\n",
    "\n",
    "for col in columns_with_n:\n",
    "    print('processing column ' + col)\n",
    "    ipo_processing,columns_to_drop = process_categorical_with_sep(ipo_processing,col,'\\n',columns_to_drop)"
   ]
  },
  {
   "cell_type": "markdown",
   "metadata": {},
   "source": [
    "### Processing categories with / separator"
   ]
  },
  {
   "cell_type": "code",
   "execution_count": 37,
   "metadata": {},
   "outputs": [
    {
     "name": "stdout",
     "output_type": "stream",
     "text": [
      "processing column industry\n",
      "#nan :0\n"
     ]
    }
   ],
   "source": [
    "columns_with_I = ['industry']\n",
    "\n",
    "for col in columns_with_I:\n",
    "    print('processing column ' + col)\n",
    "    ipo_processing,columns_to_drop = process_categorical_with_sep(ipo_processing,col,'/',columns_to_drop)"
   ]
  },
  {
   "cell_type": "markdown",
   "metadata": {},
   "source": [
    "### Processing all others categories"
   ]
  },
  {
   "cell_type": "code",
   "execution_count": 38,
   "metadata": {},
   "outputs": [
    {
     "name": "stdout",
     "output_type": "stream",
     "text": [
      "processing column prim_naic\n",
      "#nan :0\n",
      "processing column public_descr\n",
      "#nan :0\n",
      "processing column sic_main\n",
      "#nan :0\n",
      "processing column pe_backed\n",
      "#nan :0\n",
      "processing column shs_out_after\n",
      "#nan :0\n",
      "processing column lockup_flag\n",
      "#nan :0\n",
      "processing column veic_descr\n",
      "#nan :204\n",
      "processing column lbo\n",
      "#nan :0\n",
      "processing column nation\n",
      "#nan :0\n",
      "processing column prim_uop\n",
      "#nan :0\n",
      "processing column naic_decr\n",
      "#nan :1\n",
      "processing column city\n",
      "#nan :5\n",
      "processing column description_cat\n",
      "#nan :0\n",
      "processing column state\n",
      "#nan :0\n",
      "processing column naic_primary\n",
      "#nan :0\n",
      "processing column auditor\n",
      "#nan :13\n",
      "processing column vc\n",
      "#nan :0\n",
      "processing column ind_group\n",
      "#nan :0\n"
     ]
    }
   ],
   "source": [
    "to_dummies = ['description_cat','state','auditor','city','ind_group','veic_descr','naic_primary','naic_decr','public_descr','lockup_flag','sic_main','nation','lbo','prim_naic','prim_uop','pe_backed','shs_out_after','vc']\n",
    "to_dummies = add_list_to_list(cat_col, to_dummies)\n",
    "to_dummies = list(set(to_dummies))\n",
    "\n",
    "for col in to_dummies:\n",
    "    if not col in all_sic_mapping['cat'].tolist():\n",
    "        if not col in columns_to_drop:\n",
    "            print('processing column ' + col)\n",
    "            ipo_processing,columns_to_drop = process_cat_columns(ipo_processing,col,columns_to_drop)"
   ]
  },
  {
   "cell_type": "markdown",
   "metadata": {},
   "source": [
    "## 5 Pre-processing of Ordinal Features"
   ]
  },
  {
   "cell_type": "markdown",
   "metadata": {},
   "source": [
    "### price_range : Ordinal \n",
    "Since Price_range is an ordinal feature we will map it: "
   ]
  },
  {
   "cell_type": "code",
   "execution_count": 39,
   "metadata": {},
   "outputs": [
    {
     "data": {
      "text/plain": [
       "array(['Above range', 'Below range', 'Within range', nan], dtype=object)"
      ]
     },
     "execution_count": 39,
     "metadata": {},
     "output_type": "execute_result"
    }
   ],
   "source": [
    "ord_col = ['price_range']\n",
    "\n",
    "ipo_processing.price_range.unique()"
   ]
  },
  {
   "cell_type": "code",
   "execution_count": 40,
   "metadata": {},
   "outputs": [
    {
     "name": "stdout",
     "output_type": "stream",
     "text": [
      "4\n",
      "#nan :18\n",
      "3\n"
     ]
    }
   ],
   "source": [
    "price_range = ipo['price_range']\n",
    "\n",
    "print(len(price_range.unique()))\n",
    "price_range = replace_nan(price_range,'nan')\n",
    "print(len(price_range.unique()))\n",
    "\n",
    "dict_p = {'Above range': 3,\n",
    "          'Within range':2,\n",
    "          'Below range':1, \n",
    "            np.nan: 0}\n",
    "\n",
    "ipo_processing.price_range = ipo_processing.price_range.replace(dict_p)"
   ]
  },
  {
   "cell_type": "markdown",
   "metadata": {},
   "source": [
    "Offering_Price: the price at which a company sells its shares to investors.\n",
    "\n",
    "Num_Shares: the total number of outstanding shares.\n",
    "\n",
    "Closing_Price: (at the end of the first day of training) price at which shares trade in the open market, measured at the end of the first day of trading."
   ]
  },
  {
   "cell_type": "markdown",
   "metadata": {},
   "source": [
    "## 6 Pre-processing of Numerical Features\n"
   ]
  },
  {
   "cell_type": "markdown",
   "metadata": {},
   "source": [
    "We will start by numerical features that needs more preprocessing, and then replace all nan values at the end in all numerical features"
   ]
  },
  {
   "cell_type": "markdown",
   "metadata": {},
   "source": [
    "### round_tot"
   ]
  },
  {
   "cell_type": "code",
   "execution_count": 41,
   "metadata": {},
   "outputs": [],
   "source": [
    "#Sum value\n",
    "ipo_processing['round_tot'] = ipo['round_tot']\n",
    "ipo_processing = sum_list_columns(ipo_processing,'round_tot')"
   ]
  },
  {
   "cell_type": "markdown",
   "metadata": {},
   "source": [
    "### lockup_days"
   ]
  },
  {
   "cell_type": "code",
   "execution_count": 42,
   "metadata": {},
   "outputs": [],
   "source": [
    "#Sum days\n",
    "ipo_processing['lockup_days'] = ipo['lockup_days']\n",
    "ipo_processing = sum_list_columns(ipo_processing,'lockup_days')"
   ]
  },
  {
   "cell_type": "markdown",
   "metadata": {},
   "source": [
    "### mgt_fee, gross_spread"
   ]
  },
  {
   "cell_type": "markdown",
   "metadata": {},
   "source": [
    "##### Replace what is not numeric by a nan will replace all nan at the end"
   ]
  },
  {
   "cell_type": "code",
   "execution_count": 43,
   "metadata": {},
   "outputs": [],
   "source": [
    "ipo_processing['mgt_fee'] =ipo['mgt_fee'].replace('Comb.', np.nan)\n",
    "ipo_processing['gross_spread'] = ipo['gross_spread'].replace('na', np.nan)"
   ]
  },
  {
   "cell_type": "markdown",
   "metadata": {},
   "source": [
    "### Replace ' in some numerical features:"
   ]
  },
  {
   "cell_type": "code",
   "execution_count": 44,
   "metadata": {},
   "outputs": [],
   "source": [
    "col_to_replace = ['min_round_vexp','avg_round_vexp', 'max_round_vexp', 'min_firm_amt_vexp', 'avg_firm_amt_vexp', 'max_firm_amt_vexp',\\\n",
    "          'min_fund_amt_vexp', 'max_fund_amt_vexp']\n",
    "for col in col_to_replace:\n",
    "    ipo_processing[col] = ipo[col].str.replace(\"'\",'')\n",
    "num_col = add_list_to_list(col_to_replace, num_col)"
   ]
  },
  {
   "cell_type": "markdown",
   "metadata": {},
   "source": [
    "### Replace missing values of numerical features"
   ]
  },
  {
   "cell_type": "code",
   "execution_count": 45,
   "metadata": {
    "scrolled": true
   },
   "outputs": [],
   "source": [
    "###  Replace missing values in all num\n",
    "for col in num_col:\n",
    "    if not(col in columns_to_drop):\n",
    "        ipo_processing[col] = DataFrameImputer().fit_transform(ipo_processing[[col]].astype(np.float32))[col]"
   ]
  },
  {
   "cell_type": "code",
   "execution_count": 46,
   "metadata": {},
   "outputs": [],
   "source": [
    "### Replace missing values in all float\n",
    "floats = ipo.select_dtypes(include='float64')\n",
    "\n",
    "for col in floats.columns:\n",
    "    if not(col in columns_to_drop):\n",
    "        ipo_processing[col] = DataFrameImputer().fit_transform(ipo_processing[[col]].astype(np.float32))[col]"
   ]
  },
  {
   "cell_type": "code",
   "execution_count": 47,
   "metadata": {},
   "outputs": [],
   "source": [
    "### Replace missing values in all float\n",
    "ints = ipo.select_dtypes(include='int64')\n",
    "\n",
    "for col in ints.columns:\n",
    "    if not(col in columns_to_drop):\n",
    "        ipo_processing[col] = DataFrameImputer().fit_transform(ipo_processing[[col]].astype(np.int32))[col]"
   ]
  },
  {
   "cell_type": "markdown",
   "metadata": {},
   "source": [
    "### Drop columns to drop"
   ]
  },
  {
   "cell_type": "code",
   "execution_count": 48,
   "metadata": {},
   "outputs": [
    {
     "name": "stdout",
     "output_type": "stream",
     "text": [
      "['ID', 'dj_avg_2', 'nasdaq_avg_2', 'SP2', 'SP4', 'Price_All', 'Price_Change_All', 'Price_Change_Non_Textual', 'Price_Change_Textual', 'Your_Bet', 'bvps_bef_offer', 'int_aft', 'int_bef', 'intern)shs', 'pb_value', 'pct_int_shs', 'amd_date', 'lockup_date', 'first_trade_date', 'issue_date', 'offer_date', 'month', 'day', 'dow', 'offer_date', 'date_amd', 'description', 'all_sic', 'state_zip', 'city_zip', 'zip', 'issuer', 'mgrs_role', 'mgrs', 'ht_ind_gr', 'ht_ind', 'uop', 'legal', 'exch', 'br', 'industry', 'prim_naic', 'public_descr', 'sic_main', 'pe_backed', 'shs_out_after', 'lockup_flag', 'veic_descr', 'lbo', 'nation', 'prim_uop', 'naic_decr', 'city', 'description_cat', 'state', 'naic_primary', 'auditor', 'vc', 'ind_group']\n"
     ]
    }
   ],
   "source": [
    "print(columns_to_drop)\n",
    "ipo_processing.drop(columns_to_drop,inplace=True,axis=1)"
   ]
  },
  {
   "cell_type": "markdown",
   "metadata": {},
   "source": [
    "#### Final check for the Nan"
   ]
  },
  {
   "cell_type": "code",
   "execution_count": 49,
   "metadata": {},
   "outputs": [
    {
     "data": {
      "text/plain": [
       "0"
      ]
     },
     "execution_count": 49,
     "metadata": {},
     "output_type": "execute_result"
    }
   ],
   "source": [
    "ipo_processing.isnull().values.sum()"
   ]
  },
  {
   "cell_type": "code",
   "execution_count": 50,
   "metadata": {},
   "outputs": [
    {
     "data": {
      "text/plain": [
       "[]"
      ]
     },
     "execution_count": 50,
     "metadata": {},
     "output_type": "execute_result"
    }
   ],
   "source": [
    "ipo_processing.columns[ipo_processing.isna().any()].tolist()"
   ]
  },
  {
   "cell_type": "code",
   "execution_count": 51,
   "metadata": {},
   "outputs": [
    {
     "name": "stdout",
     "output_type": "stream",
     "text": [
      "(3474, 5741)\n"
     ]
    }
   ],
   "source": [
    "print(ipo_processing.shape)"
   ]
  },
  {
   "cell_type": "markdown",
   "metadata": {},
   "source": [
    "# 7 Pre-processing of textual features\n",
    "\n",
    "### Risk_Factors :  Textual description of all the risk / done \n"
   ]
  },
  {
   "cell_type": "code",
   "execution_count": 52,
   "metadata": {},
   "outputs": [],
   "source": [
    "risks = ipo['Risk_Factors']"
   ]
  },
  {
   "cell_type": "code",
   "execution_count": 53,
   "metadata": {},
   "outputs": [
    {
     "name": "stdout",
     "output_type": "stream",
     "text": [
      "[nltk_data] Downloading package stopwords to\n",
      "[nltk_data]     C:\\Users\\Julien\\AppData\\Roaming\\nltk_data...\n",
      "[nltk_data]   Package stopwords is already up-to-date!\n"
     ]
    }
   ],
   "source": [
    "# Preprocess of the risk factors text with the function process_text_columns found inside the preprocessing_functions.py file\n",
    "risks,risks_words = process_text_columns(risks)"
   ]
  },
  {
   "cell_type": "code",
   "execution_count": 54,
   "metadata": {},
   "outputs": [
    {
     "name": "stdout",
     "output_type": "stream",
     "text": [
      "3474\n"
     ]
    }
   ],
   "source": [
    "print(len(risks))"
   ]
  },
  {
   "cell_type": "markdown",
   "metadata": {},
   "source": [
    "### TFIDF"
   ]
  },
  {
   "cell_type": "code",
   "execution_count": 55,
   "metadata": {},
   "outputs": [],
   "source": [
    "# TFIDF --------------------------------------------------------------------------------------------\n",
    "from sklearn.feature_extraction.text import CountVectorizer,TfidfVectorizer\n",
    "\n",
    "vectorizer = TfidfVectorizer(max_features = 500)\n",
    "risks_tfidf = vectorizer.fit_transform(risks)\n",
    "risks_tfidf = risks_tfidf.toarray()\n",
    "\n",
    "#Convert to a dataframe\n",
    "risks_tfidf = pd.DataFrame(risks_tfidf)"
   ]
  },
  {
   "cell_type": "code",
   "execution_count": 56,
   "metadata": {},
   "outputs": [],
   "source": [
    "# Drop textual Feature\n",
    "ipo_processing.drop('Risk_Factors',inplace=True,axis=1)"
   ]
  },
  {
   "cell_type": "code",
   "execution_count": 57,
   "metadata": {},
   "outputs": [
    {
     "name": "stdout",
     "output_type": "stream",
     "text": [
      "3474\n"
     ]
    },
    {
     "data": {
      "text/html": [
       "<div>\n",
       "<style scoped>\n",
       "    .dataframe tbody tr th:only-of-type {\n",
       "        vertical-align: middle;\n",
       "    }\n",
       "\n",
       "    .dataframe tbody tr th {\n",
       "        vertical-align: top;\n",
       "    }\n",
       "\n",
       "    .dataframe thead th {\n",
       "        text-align: right;\n",
       "    }\n",
       "</style>\n",
       "<table border=\"1\" class=\"dataframe\">\n",
       "  <thead>\n",
       "    <tr style=\"text-align: right;\">\n",
       "      <th></th>\n",
       "      <th>0</th>\n",
       "      <th>1</th>\n",
       "      <th>2</th>\n",
       "      <th>3</th>\n",
       "      <th>4</th>\n",
       "      <th>5</th>\n",
       "      <th>6</th>\n",
       "      <th>7</th>\n",
       "      <th>8</th>\n",
       "      <th>9</th>\n",
       "      <th>...</th>\n",
       "      <th>490</th>\n",
       "      <th>491</th>\n",
       "      <th>492</th>\n",
       "      <th>493</th>\n",
       "      <th>494</th>\n",
       "      <th>495</th>\n",
       "      <th>496</th>\n",
       "      <th>497</th>\n",
       "      <th>498</th>\n",
       "      <th>499</th>\n",
       "    </tr>\n",
       "  </thead>\n",
       "  <tbody>\n",
       "    <tr>\n",
       "      <th>0</th>\n",
       "      <td>0.089431</td>\n",
       "      <td>0.011749</td>\n",
       "      <td>0.004410</td>\n",
       "      <td>0.0</td>\n",
       "      <td>0.000000</td>\n",
       "      <td>0.087790</td>\n",
       "      <td>0.009265</td>\n",
       "      <td>0.069242</td>\n",
       "      <td>0.094136</td>\n",
       "      <td>0.005345</td>\n",
       "      <td>...</td>\n",
       "      <td>0.000000</td>\n",
       "      <td>0.005839</td>\n",
       "      <td>0.000000</td>\n",
       "      <td>0.017046</td>\n",
       "      <td>0.000000</td>\n",
       "      <td>0.000000</td>\n",
       "      <td>0.023121</td>\n",
       "      <td>0.021809</td>\n",
       "      <td>0.023525</td>\n",
       "      <td>0.028191</td>\n",
       "    </tr>\n",
       "    <tr>\n",
       "      <th>1</th>\n",
       "      <td>0.051320</td>\n",
       "      <td>0.019881</td>\n",
       "      <td>0.004477</td>\n",
       "      <td>0.0</td>\n",
       "      <td>0.009554</td>\n",
       "      <td>0.074276</td>\n",
       "      <td>0.004703</td>\n",
       "      <td>0.014060</td>\n",
       "      <td>0.005030</td>\n",
       "      <td>0.000000</td>\n",
       "      <td>...</td>\n",
       "      <td>0.065395</td>\n",
       "      <td>0.005929</td>\n",
       "      <td>0.000000</td>\n",
       "      <td>0.017307</td>\n",
       "      <td>0.005277</td>\n",
       "      <td>0.022135</td>\n",
       "      <td>0.000000</td>\n",
       "      <td>0.000000</td>\n",
       "      <td>0.031846</td>\n",
       "      <td>0.012266</td>\n",
       "    </tr>\n",
       "    <tr>\n",
       "      <th>2</th>\n",
       "      <td>0.061017</td>\n",
       "      <td>0.000000</td>\n",
       "      <td>0.038444</td>\n",
       "      <td>0.0</td>\n",
       "      <td>0.024610</td>\n",
       "      <td>0.017008</td>\n",
       "      <td>0.016154</td>\n",
       "      <td>0.000000</td>\n",
       "      <td>0.000000</td>\n",
       "      <td>0.018638</td>\n",
       "      <td>...</td>\n",
       "      <td>0.022462</td>\n",
       "      <td>0.030545</td>\n",
       "      <td>0.042007</td>\n",
       "      <td>0.014861</td>\n",
       "      <td>0.009063</td>\n",
       "      <td>0.000000</td>\n",
       "      <td>0.024189</td>\n",
       "      <td>0.000000</td>\n",
       "      <td>0.027346</td>\n",
       "      <td>0.063198</td>\n",
       "    </tr>\n",
       "    <tr>\n",
       "      <th>3</th>\n",
       "      <td>0.049717</td>\n",
       "      <td>0.031866</td>\n",
       "      <td>0.005126</td>\n",
       "      <td>0.0</td>\n",
       "      <td>0.000000</td>\n",
       "      <td>0.028346</td>\n",
       "      <td>0.016154</td>\n",
       "      <td>0.048291</td>\n",
       "      <td>0.086385</td>\n",
       "      <td>0.037276</td>\n",
       "      <td>...</td>\n",
       "      <td>0.014974</td>\n",
       "      <td>0.000000</td>\n",
       "      <td>0.037339</td>\n",
       "      <td>0.009907</td>\n",
       "      <td>0.006042</td>\n",
       "      <td>0.006336</td>\n",
       "      <td>0.032251</td>\n",
       "      <td>0.012675</td>\n",
       "      <td>0.022788</td>\n",
       "      <td>0.018725</td>\n",
       "    </tr>\n",
       "    <tr>\n",
       "      <th>4</th>\n",
       "      <td>0.034239</td>\n",
       "      <td>0.034486</td>\n",
       "      <td>0.004854</td>\n",
       "      <td>0.0</td>\n",
       "      <td>0.005179</td>\n",
       "      <td>0.026842</td>\n",
       "      <td>0.005099</td>\n",
       "      <td>0.025405</td>\n",
       "      <td>0.032720</td>\n",
       "      <td>0.029415</td>\n",
       "      <td>...</td>\n",
       "      <td>0.028359</td>\n",
       "      <td>0.012855</td>\n",
       "      <td>0.008839</td>\n",
       "      <td>0.004691</td>\n",
       "      <td>0.005721</td>\n",
       "      <td>0.005999</td>\n",
       "      <td>0.025449</td>\n",
       "      <td>0.006001</td>\n",
       "      <td>0.004316</td>\n",
       "      <td>0.048761</td>\n",
       "    </tr>\n",
       "  </tbody>\n",
       "</table>\n",
       "<p>5 rows × 500 columns</p>\n",
       "</div>"
      ],
      "text/plain": [
       "        0         1         2    3         4         5         6         7    \\\n",
       "0  0.089431  0.011749  0.004410  0.0  0.000000  0.087790  0.009265  0.069242   \n",
       "1  0.051320  0.019881  0.004477  0.0  0.009554  0.074276  0.004703  0.014060   \n",
       "2  0.061017  0.000000  0.038444  0.0  0.024610  0.017008  0.016154  0.000000   \n",
       "3  0.049717  0.031866  0.005126  0.0  0.000000  0.028346  0.016154  0.048291   \n",
       "4  0.034239  0.034486  0.004854  0.0  0.005179  0.026842  0.005099  0.025405   \n",
       "\n",
       "        8         9      ...          490       491       492       493  \\\n",
       "0  0.094136  0.005345    ...     0.000000  0.005839  0.000000  0.017046   \n",
       "1  0.005030  0.000000    ...     0.065395  0.005929  0.000000  0.017307   \n",
       "2  0.000000  0.018638    ...     0.022462  0.030545  0.042007  0.014861   \n",
       "3  0.086385  0.037276    ...     0.014974  0.000000  0.037339  0.009907   \n",
       "4  0.032720  0.029415    ...     0.028359  0.012855  0.008839  0.004691   \n",
       "\n",
       "        494       495       496       497       498       499  \n",
       "0  0.000000  0.000000  0.023121  0.021809  0.023525  0.028191  \n",
       "1  0.005277  0.022135  0.000000  0.000000  0.031846  0.012266  \n",
       "2  0.009063  0.000000  0.024189  0.000000  0.027346  0.063198  \n",
       "3  0.006042  0.006336  0.032251  0.012675  0.022788  0.018725  \n",
       "4  0.005721  0.005999  0.025449  0.006001  0.004316  0.048761  \n",
       "\n",
       "[5 rows x 500 columns]"
      ]
     },
     "execution_count": 57,
     "metadata": {},
     "output_type": "execute_result"
    }
   ],
   "source": [
    "print(len(risks_tfidf))\n",
    "risks_tfidf.head()"
   ]
  },
  {
   "cell_type": "code",
   "execution_count": 58,
   "metadata": {},
   "outputs": [
    {
     "data": {
      "text/plain": [
       "0"
      ]
     },
     "execution_count": 58,
     "metadata": {},
     "output_type": "execute_result"
    }
   ],
   "source": [
    "# Check for Nan\n",
    "risks_tfidf.isnull().values.sum()"
   ]
  },
  {
   "cell_type": "markdown",
   "metadata": {},
   "source": [
    "## 8 : TARGET"
   ]
  },
  {
   "cell_type": "code",
   "execution_count": 59,
   "metadata": {},
   "outputs": [],
   "source": [
    "ipo_processing['Target'] = ipo_processing.Closing_Price >= ipo_processing.Offering_Price "
   ]
  },
  {
   "cell_type": "code",
   "execution_count": 60,
   "metadata": {},
   "outputs": [
    {
     "data": {
      "text/plain": [
       "3474"
      ]
     },
     "execution_count": 60,
     "metadata": {},
     "output_type": "execute_result"
    }
   ],
   "source": [
    "len(ipo_processing.Closing_Price == ipo_processing.Offering_Price )"
   ]
  },
  {
   "cell_type": "code",
   "execution_count": 61,
   "metadata": {},
   "outputs": [
    {
     "data": {
      "text/plain": [
       "3474"
      ]
     },
     "execution_count": 61,
     "metadata": {},
     "output_type": "execute_result"
    }
   ],
   "source": [
    "len(ipo_processing['Target'])"
   ]
  },
  {
   "cell_type": "code",
   "execution_count": 62,
   "metadata": {},
   "outputs": [],
   "source": [
    "ipo_processing.Target = ipo_processing.Target.astype(int)"
   ]
  },
  {
   "cell_type": "code",
   "execution_count": 63,
   "metadata": {},
   "outputs": [
    {
     "data": {
      "image/png": "[encoded data removed]",
      "text/plain": [
       "<Figure size 432x288 with 1 Axes>"
      ]
     },
     "metadata": {},
     "output_type": "display_data"
    }
   ],
   "source": [
    "counts = ipo_processing.Target.value_counts()\n",
    "\n",
    "sns.set()\n",
    "\n",
    "ones = counts[1]/len(counts) * 100\n",
    "zeros = counts[0]/len(counts) * 100\n",
    "labels = 'Price increased', 'Price decreased'\n",
    "plt.pie( [ones, zeros], labels=labels, autopct='%1.2f%%', startangle=360)\n",
    "plt.title('Distribution of target')\n",
    "plt.show()"
   ]
  },
  {
   "cell_type": "markdown",
   "metadata": {},
   "source": [
    "## 9 Features Reduction\n",
    "\n",
    "### 9.1. Check the correlation of the features\n",
    "    -> Drop bottom 5%\n"
   ]
  },
  {
   "cell_type": "code",
   "execution_count": 64,
   "metadata": {},
   "outputs": [
    {
     "name": "stdout",
     "output_type": "stream",
     "text": [
      "[dtype('float32') dtype('int32') dtype('float64') dtype('int64')\n",
      " dtype('uint8')]\n"
     ]
    }
   ],
   "source": [
    "# check if only numbers inside the dataframe\n",
    "print(ipo_processing.dtypes.unique())"
   ]
  },
  {
   "cell_type": "code",
   "execution_count": 65,
   "metadata": {},
   "outputs": [
    {
     "name": "stdout",
     "output_type": "stream",
     "text": [
      "<class 'pandas.core.frame.DataFrame'>\n"
     ]
    }
   ],
   "source": [
    "# compute the correlation matrix\n",
    "corr = ipo_processing.corr(method='pearson').abs()\n",
    "print(type(corr))"
   ]
  },
  {
   "cell_type": "code",
   "execution_count": 66,
   "metadata": {},
   "outputs": [
    {
     "data": {
      "text/html": [
       "<div>\n",
       "<style scoped>\n",
       "    .dataframe tbody tr th:only-of-type {\n",
       "        vertical-align: middle;\n",
       "    }\n",
       "\n",
       "    .dataframe tbody tr th {\n",
       "        vertical-align: top;\n",
       "    }\n",
       "\n",
       "    .dataframe thead th {\n",
       "        text-align: right;\n",
       "    }\n",
       "</style>\n",
       "<table border=\"1\" class=\"dataframe\">\n",
       "  <thead>\n",
       "    <tr style=\"text-align: right;\">\n",
       "      <th></th>\n",
       "      <th>Closing_Price</th>\n",
       "      <th>Num_Shares</th>\n",
       "      <th>Offering_Price</th>\n",
       "      <th>SEC_fee</th>\n",
       "      <th>SP1</th>\n",
       "      <th>SP3</th>\n",
       "      <th>acc_fee</th>\n",
       "      <th>amd_hp</th>\n",
       "      <th>amd_lp</th>\n",
       "      <th>amd_mp</th>\n",
       "      <th>...</th>\n",
       "      <th>Weiser LLP</th>\n",
       "      <th>Wiss &amp; Co LLP</th>\n",
       "      <th>Witt Mares &amp; Company PLC</th>\n",
       "      <th>No</th>\n",
       "      <th>Yes</th>\n",
       "      <th>Agency</th>\n",
       "      <th>Finance</th>\n",
       "      <th>Industrial</th>\n",
       "      <th>Utility</th>\n",
       "      <th>Target</th>\n",
       "    </tr>\n",
       "  </thead>\n",
       "  <tbody>\n",
       "    <tr>\n",
       "      <th>Closing_Price</th>\n",
       "      <td>1.000000</td>\n",
       "      <td>0.158282</td>\n",
       "      <td>0.655758</td>\n",
       "      <td>0.132872</td>\n",
       "      <td>0.003635</td>\n",
       "      <td>0.127785</td>\n",
       "      <td>0.028099</td>\n",
       "      <td>0.558169</td>\n",
       "      <td>0.560333</td>\n",
       "      <td>0.560190</td>\n",
       "      <td>...</td>\n",
       "      <td>0.001333</td>\n",
       "      <td>0.008504</td>\n",
       "      <td>0.010378</td>\n",
       "      <td>0.101048</td>\n",
       "      <td>0.101048</td>\n",
       "      <td>0.004112</td>\n",
       "      <td>0.009903</td>\n",
       "      <td>0.003937</td>\n",
       "      <td>0.031940</td>\n",
       "      <td>0.187750</td>\n",
       "    </tr>\n",
       "    <tr>\n",
       "      <th>Num_Shares</th>\n",
       "      <td>0.158282</td>\n",
       "      <td>1.000000</td>\n",
       "      <td>0.293897</td>\n",
       "      <td>0.613709</td>\n",
       "      <td>0.178431</td>\n",
       "      <td>0.169671</td>\n",
       "      <td>0.235449</td>\n",
       "      <td>0.302089</td>\n",
       "      <td>0.294869</td>\n",
       "      <td>0.299048</td>\n",
       "      <td>...</td>\n",
       "      <td>0.008730</td>\n",
       "      <td>0.008878</td>\n",
       "      <td>0.007773</td>\n",
       "      <td>0.065013</td>\n",
       "      <td>0.065013</td>\n",
       "      <td>0.007450</td>\n",
       "      <td>0.020259</td>\n",
       "      <td>0.032555</td>\n",
       "      <td>0.033513</td>\n",
       "      <td>0.012038</td>\n",
       "    </tr>\n",
       "    <tr>\n",
       "      <th>Offering_Price</th>\n",
       "      <td>0.655758</td>\n",
       "      <td>0.293897</td>\n",
       "      <td>1.000000</td>\n",
       "      <td>0.308456</td>\n",
       "      <td>0.135232</td>\n",
       "      <td>0.145083</td>\n",
       "      <td>0.122167</td>\n",
       "      <td>0.948564</td>\n",
       "      <td>0.949363</td>\n",
       "      <td>0.950735</td>\n",
       "      <td>...</td>\n",
       "      <td>0.015973</td>\n",
       "      <td>0.016527</td>\n",
       "      <td>0.011110</td>\n",
       "      <td>0.086386</td>\n",
       "      <td>0.086386</td>\n",
       "      <td>0.000392</td>\n",
       "      <td>0.143646</td>\n",
       "      <td>0.160260</td>\n",
       "      <td>0.062066</td>\n",
       "      <td>0.008554</td>\n",
       "    </tr>\n",
       "    <tr>\n",
       "      <th>SEC_fee</th>\n",
       "      <td>0.132872</td>\n",
       "      <td>0.613709</td>\n",
       "      <td>0.308456</td>\n",
       "      <td>1.000000</td>\n",
       "      <td>0.003662</td>\n",
       "      <td>0.020921</td>\n",
       "      <td>0.169188</td>\n",
       "      <td>0.322583</td>\n",
       "      <td>0.315690</td>\n",
       "      <td>0.319747</td>\n",
       "      <td>...</td>\n",
       "      <td>0.004000</td>\n",
       "      <td>0.005505</td>\n",
       "      <td>0.004390</td>\n",
       "      <td>0.120166</td>\n",
       "      <td>0.120166</td>\n",
       "      <td>0.002339</td>\n",
       "      <td>0.055020</td>\n",
       "      <td>0.073570</td>\n",
       "      <td>0.053049</td>\n",
       "      <td>0.001251</td>\n",
       "    </tr>\n",
       "    <tr>\n",
       "      <th>SP1</th>\n",
       "      <td>0.003635</td>\n",
       "      <td>0.178431</td>\n",
       "      <td>0.135232</td>\n",
       "      <td>0.003662</td>\n",
       "      <td>1.000000</td>\n",
       "      <td>0.857477</td>\n",
       "      <td>0.256940</td>\n",
       "      <td>0.194580</td>\n",
       "      <td>0.197830</td>\n",
       "      <td>0.196589</td>\n",
       "      <td>...</td>\n",
       "      <td>0.025447</td>\n",
       "      <td>0.015119</td>\n",
       "      <td>0.000023</td>\n",
       "      <td>0.058490</td>\n",
       "      <td>0.058490</td>\n",
       "      <td>0.010559</td>\n",
       "      <td>0.057952</td>\n",
       "      <td>0.053222</td>\n",
       "      <td>0.000535</td>\n",
       "      <td>0.135425</td>\n",
       "    </tr>\n",
       "  </tbody>\n",
       "</table>\n",
       "<p>5 rows × 5741 columns</p>\n",
       "</div>"
      ],
      "text/plain": [
       "                Closing_Price  Num_Shares  Offering_Price   SEC_fee       SP1  \\\n",
       "Closing_Price        1.000000    0.158282        0.655758  0.132872  0.003635   \n",
       "Num_Shares           0.158282    1.000000        0.293897  0.613709  0.178431   \n",
       "Offering_Price       0.655758    0.293897        1.000000  0.308456  0.135232   \n",
       "SEC_fee              0.132872    0.613709        0.308456  1.000000  0.003662   \n",
       "SP1                  0.003635    0.178431        0.135232  0.003662  1.000000   \n",
       "\n",
       "                     SP3   acc_fee    amd_hp    amd_lp    amd_mp    ...     \\\n",
       "Closing_Price   0.127785  0.028099  0.558169  0.560333  0.560190    ...      \n",
       "Num_Shares      0.169671  0.235449  0.302089  0.294869  0.299048    ...      \n",
       "Offering_Price  0.145083  0.122167  0.948564  0.949363  0.950735    ...      \n",
       "SEC_fee         0.020921  0.169188  0.322583  0.315690  0.319747    ...      \n",
       "SP1             0.857477  0.256940  0.194580  0.197830  0.196589    ...      \n",
       "\n",
       "                Weiser LLP  Wiss & Co LLP  Witt Mares & Company PLC        No  \\\n",
       "Closing_Price     0.001333       0.008504                  0.010378  0.101048   \n",
       "Num_Shares        0.008730       0.008878                  0.007773  0.065013   \n",
       "Offering_Price    0.015973       0.016527                  0.011110  0.086386   \n",
       "SEC_fee           0.004000       0.005505                  0.004390  0.120166   \n",
       "SP1               0.025447       0.015119                  0.000023  0.058490   \n",
       "\n",
       "                     Yes    Agency   Finance  Industrial   Utility    Target  \n",
       "Closing_Price   0.101048  0.004112  0.009903    0.003937  0.031940  0.187750  \n",
       "Num_Shares      0.065013  0.007450  0.020259    0.032555  0.033513  0.012038  \n",
       "Offering_Price  0.086386  0.000392  0.143646    0.160260  0.062066  0.008554  \n",
       "SEC_fee         0.120166  0.002339  0.055020    0.073570  0.053049  0.001251  \n",
       "SP1             0.058490  0.010559  0.057952    0.053222  0.000535  0.135425  \n",
       "\n",
       "[5 rows x 5741 columns]"
      ]
     },
     "execution_count": 66,
     "metadata": {},
     "output_type": "execute_result"
    }
   ],
   "source": [
    "corr.head()"
   ]
  },
  {
   "cell_type": "code",
   "execution_count": 67,
   "metadata": {
    "scrolled": true
   },
   "outputs": [],
   "source": [
    "# Select upper triangle of correlation matrix\n",
    "upper = corr.where(np.triu(np.ones(corr.shape), k=1).astype(np.bool))\n",
    "\n",
    "# Find index of feature columns with correlation greater than 0.95\n",
    "to_drop = [column for column in upper.columns if any(upper[column] > 0.95)]"
   ]
  },
  {
   "cell_type": "code",
   "execution_count": 68,
   "metadata": {},
   "outputs": [
    {
     "name": "stdout",
     "output_type": "stream",
     "text": [
      "2022\n"
     ]
    }
   ],
   "source": [
    "# numbers of features to drop\n",
    "print(len(to_drop))"
   ]
  },
  {
   "cell_type": "markdown",
   "metadata": {},
   "source": [
    "Drop the most correlated features. It is useless to have 2 features that have more than 0.95 of correlation therefore we drop one of them each time it happens."
   ]
  },
  {
   "cell_type": "code",
   "execution_count": 69,
   "metadata": {},
   "outputs": [],
   "source": [
    "# Drop the features\n",
    "ipo_processing.drop(to_drop,inplace=True,axis=1)"
   ]
  },
  {
   "cell_type": "code",
   "execution_count": 70,
   "metadata": {},
   "outputs": [
    {
     "name": "stdout",
     "output_type": "stream",
     "text": [
      "3474\n",
      "3719\n"
     ]
    }
   ],
   "source": [
    "print(len(ipo_processing))\n",
    "print(len(ipo_processing.columns))"
   ]
  },
  {
   "cell_type": "markdown",
   "metadata": {},
   "source": [
    "##### Now we redo the same steps for the risks factors"
   ]
  },
  {
   "cell_type": "code",
   "execution_count": 71,
   "metadata": {},
   "outputs": [
    {
     "name": "stdout",
     "output_type": "stream",
     "text": [
      "[dtype('float64')]\n"
     ]
    },
    {
     "data": {
      "text/html": [
       "<div>\n",
       "<style scoped>\n",
       "    .dataframe tbody tr th:only-of-type {\n",
       "        vertical-align: middle;\n",
       "    }\n",
       "\n",
       "    .dataframe tbody tr th {\n",
       "        vertical-align: top;\n",
       "    }\n",
       "\n",
       "    .dataframe thead th {\n",
       "        text-align: right;\n",
       "    }\n",
       "</style>\n",
       "<table border=\"1\" class=\"dataframe\">\n",
       "  <thead>\n",
       "    <tr style=\"text-align: right;\">\n",
       "      <th></th>\n",
       "      <th>0</th>\n",
       "      <th>1</th>\n",
       "      <th>2</th>\n",
       "      <th>3</th>\n",
       "      <th>4</th>\n",
       "      <th>5</th>\n",
       "      <th>6</th>\n",
       "      <th>7</th>\n",
       "      <th>8</th>\n",
       "      <th>9</th>\n",
       "      <th>...</th>\n",
       "      <th>490</th>\n",
       "      <th>491</th>\n",
       "      <th>492</th>\n",
       "      <th>493</th>\n",
       "      <th>494</th>\n",
       "      <th>495</th>\n",
       "      <th>496</th>\n",
       "      <th>497</th>\n",
       "      <th>498</th>\n",
       "      <th>499</th>\n",
       "    </tr>\n",
       "  </thead>\n",
       "  <tbody>\n",
       "    <tr>\n",
       "      <th>0</th>\n",
       "      <td>0.089431</td>\n",
       "      <td>0.011749</td>\n",
       "      <td>0.004410</td>\n",
       "      <td>0.0</td>\n",
       "      <td>0.000000</td>\n",
       "      <td>0.087790</td>\n",
       "      <td>0.009265</td>\n",
       "      <td>0.069242</td>\n",
       "      <td>0.094136</td>\n",
       "      <td>0.005345</td>\n",
       "      <td>...</td>\n",
       "      <td>0.000000</td>\n",
       "      <td>0.005839</td>\n",
       "      <td>0.000000</td>\n",
       "      <td>0.017046</td>\n",
       "      <td>0.000000</td>\n",
       "      <td>0.000000</td>\n",
       "      <td>0.023121</td>\n",
       "      <td>0.021809</td>\n",
       "      <td>0.023525</td>\n",
       "      <td>0.028191</td>\n",
       "    </tr>\n",
       "    <tr>\n",
       "      <th>1</th>\n",
       "      <td>0.051320</td>\n",
       "      <td>0.019881</td>\n",
       "      <td>0.004477</td>\n",
       "      <td>0.0</td>\n",
       "      <td>0.009554</td>\n",
       "      <td>0.074276</td>\n",
       "      <td>0.004703</td>\n",
       "      <td>0.014060</td>\n",
       "      <td>0.005030</td>\n",
       "      <td>0.000000</td>\n",
       "      <td>...</td>\n",
       "      <td>0.065395</td>\n",
       "      <td>0.005929</td>\n",
       "      <td>0.000000</td>\n",
       "      <td>0.017307</td>\n",
       "      <td>0.005277</td>\n",
       "      <td>0.022135</td>\n",
       "      <td>0.000000</td>\n",
       "      <td>0.000000</td>\n",
       "      <td>0.031846</td>\n",
       "      <td>0.012266</td>\n",
       "    </tr>\n",
       "    <tr>\n",
       "      <th>2</th>\n",
       "      <td>0.061017</td>\n",
       "      <td>0.000000</td>\n",
       "      <td>0.038444</td>\n",
       "      <td>0.0</td>\n",
       "      <td>0.024610</td>\n",
       "      <td>0.017008</td>\n",
       "      <td>0.016154</td>\n",
       "      <td>0.000000</td>\n",
       "      <td>0.000000</td>\n",
       "      <td>0.018638</td>\n",
       "      <td>...</td>\n",
       "      <td>0.022462</td>\n",
       "      <td>0.030545</td>\n",
       "      <td>0.042007</td>\n",
       "      <td>0.014861</td>\n",
       "      <td>0.009063</td>\n",
       "      <td>0.000000</td>\n",
       "      <td>0.024189</td>\n",
       "      <td>0.000000</td>\n",
       "      <td>0.027346</td>\n",
       "      <td>0.063198</td>\n",
       "    </tr>\n",
       "    <tr>\n",
       "      <th>3</th>\n",
       "      <td>0.049717</td>\n",
       "      <td>0.031866</td>\n",
       "      <td>0.005126</td>\n",
       "      <td>0.0</td>\n",
       "      <td>0.000000</td>\n",
       "      <td>0.028346</td>\n",
       "      <td>0.016154</td>\n",
       "      <td>0.048291</td>\n",
       "      <td>0.086385</td>\n",
       "      <td>0.037276</td>\n",
       "      <td>...</td>\n",
       "      <td>0.014974</td>\n",
       "      <td>0.000000</td>\n",
       "      <td>0.037339</td>\n",
       "      <td>0.009907</td>\n",
       "      <td>0.006042</td>\n",
       "      <td>0.006336</td>\n",
       "      <td>0.032251</td>\n",
       "      <td>0.012675</td>\n",
       "      <td>0.022788</td>\n",
       "      <td>0.018725</td>\n",
       "    </tr>\n",
       "    <tr>\n",
       "      <th>4</th>\n",
       "      <td>0.034239</td>\n",
       "      <td>0.034486</td>\n",
       "      <td>0.004854</td>\n",
       "      <td>0.0</td>\n",
       "      <td>0.005179</td>\n",
       "      <td>0.026842</td>\n",
       "      <td>0.005099</td>\n",
       "      <td>0.025405</td>\n",
       "      <td>0.032720</td>\n",
       "      <td>0.029415</td>\n",
       "      <td>...</td>\n",
       "      <td>0.028359</td>\n",
       "      <td>0.012855</td>\n",
       "      <td>0.008839</td>\n",
       "      <td>0.004691</td>\n",
       "      <td>0.005721</td>\n",
       "      <td>0.005999</td>\n",
       "      <td>0.025449</td>\n",
       "      <td>0.006001</td>\n",
       "      <td>0.004316</td>\n",
       "      <td>0.048761</td>\n",
       "    </tr>\n",
       "  </tbody>\n",
       "</table>\n",
       "<p>5 rows × 500 columns</p>\n",
       "</div>"
      ],
      "text/plain": [
       "        0         1         2    3         4         5         6         7    \\\n",
       "0  0.089431  0.011749  0.004410  0.0  0.000000  0.087790  0.009265  0.069242   \n",
       "1  0.051320  0.019881  0.004477  0.0  0.009554  0.074276  0.004703  0.014060   \n",
       "2  0.061017  0.000000  0.038444  0.0  0.024610  0.017008  0.016154  0.000000   \n",
       "3  0.049717  0.031866  0.005126  0.0  0.000000  0.028346  0.016154  0.048291   \n",
       "4  0.034239  0.034486  0.004854  0.0  0.005179  0.026842  0.005099  0.025405   \n",
       "\n",
       "        8         9      ...          490       491       492       493  \\\n",
       "0  0.094136  0.005345    ...     0.000000  0.005839  0.000000  0.017046   \n",
       "1  0.005030  0.000000    ...     0.065395  0.005929  0.000000  0.017307   \n",
       "2  0.000000  0.018638    ...     0.022462  0.030545  0.042007  0.014861   \n",
       "3  0.086385  0.037276    ...     0.014974  0.000000  0.037339  0.009907   \n",
       "4  0.032720  0.029415    ...     0.028359  0.012855  0.008839  0.004691   \n",
       "\n",
       "        494       495       496       497       498       499  \n",
       "0  0.000000  0.000000  0.023121  0.021809  0.023525  0.028191  \n",
       "1  0.005277  0.022135  0.000000  0.000000  0.031846  0.012266  \n",
       "2  0.009063  0.000000  0.024189  0.000000  0.027346  0.063198  \n",
       "3  0.006042  0.006336  0.032251  0.012675  0.022788  0.018725  \n",
       "4  0.005721  0.005999  0.025449  0.006001  0.004316  0.048761  \n",
       "\n",
       "[5 rows x 500 columns]"
      ]
     },
     "execution_count": 71,
     "metadata": {},
     "output_type": "execute_result"
    }
   ],
   "source": [
    "print(risks_tfidf.dtypes.unique())\n",
    "risks_tfidf.head()"
   ]
  },
  {
   "cell_type": "code",
   "execution_count": 72,
   "metadata": {},
   "outputs": [
    {
     "name": "stdout",
     "output_type": "stream",
     "text": [
      "<class 'pandas.core.frame.DataFrame'>\n"
     ]
    }
   ],
   "source": [
    "# compute the correlation matrix\n",
    "risk_corr = risks_tfidf.corr(method='pearson').abs()\n",
    "print(type(risk_corr))"
   ]
  },
  {
   "cell_type": "code",
   "execution_count": 73,
   "metadata": {},
   "outputs": [
    {
     "data": {
      "text/html": [
       "<div>\n",
       "<style scoped>\n",
       "    .dataframe tbody tr th:only-of-type {\n",
       "        vertical-align: middle;\n",
       "    }\n",
       "\n",
       "    .dataframe tbody tr th {\n",
       "        vertical-align: top;\n",
       "    }\n",
       "\n",
       "    .dataframe thead th {\n",
       "        text-align: right;\n",
       "    }\n",
       "</style>\n",
       "<table border=\"1\" class=\"dataframe\">\n",
       "  <thead>\n",
       "    <tr style=\"text-align: right;\">\n",
       "      <th></th>\n",
       "      <th>0</th>\n",
       "      <th>1</th>\n",
       "      <th>2</th>\n",
       "      <th>3</th>\n",
       "      <th>4</th>\n",
       "      <th>5</th>\n",
       "      <th>6</th>\n",
       "      <th>7</th>\n",
       "      <th>8</th>\n",
       "      <th>9</th>\n",
       "      <th>...</th>\n",
       "      <th>490</th>\n",
       "      <th>491</th>\n",
       "      <th>492</th>\n",
       "      <th>493</th>\n",
       "      <th>494</th>\n",
       "      <th>495</th>\n",
       "      <th>496</th>\n",
       "      <th>497</th>\n",
       "      <th>498</th>\n",
       "      <th>499</th>\n",
       "    </tr>\n",
       "  </thead>\n",
       "  <tbody>\n",
       "    <tr>\n",
       "      <th>0</th>\n",
       "      <td>1.000000</td>\n",
       "      <td>0.255535</td>\n",
       "      <td>0.010913</td>\n",
       "      <td>0.128380</td>\n",
       "      <td>0.000153</td>\n",
       "      <td>0.052586</td>\n",
       "      <td>0.104793</td>\n",
       "      <td>0.146202</td>\n",
       "      <td>0.085376</td>\n",
       "      <td>0.008897</td>\n",
       "      <td>...</td>\n",
       "      <td>0.049331</td>\n",
       "      <td>0.026491</td>\n",
       "      <td>0.073484</td>\n",
       "      <td>0.082707</td>\n",
       "      <td>0.090897</td>\n",
       "      <td>0.089149</td>\n",
       "      <td>0.013717</td>\n",
       "      <td>0.129243</td>\n",
       "      <td>0.203573</td>\n",
       "      <td>0.002085</td>\n",
       "    </tr>\n",
       "    <tr>\n",
       "      <th>1</th>\n",
       "      <td>0.255535</td>\n",
       "      <td>1.000000</td>\n",
       "      <td>0.213452</td>\n",
       "      <td>0.121055</td>\n",
       "      <td>0.049005</td>\n",
       "      <td>0.093486</td>\n",
       "      <td>0.220597</td>\n",
       "      <td>0.108324</td>\n",
       "      <td>0.066267</td>\n",
       "      <td>0.083831</td>\n",
       "      <td>...</td>\n",
       "      <td>0.057018</td>\n",
       "      <td>0.088309</td>\n",
       "      <td>0.066145</td>\n",
       "      <td>0.017420</td>\n",
       "      <td>0.072200</td>\n",
       "      <td>0.025565</td>\n",
       "      <td>0.013527</td>\n",
       "      <td>0.174612</td>\n",
       "      <td>0.194201</td>\n",
       "      <td>0.049441</td>\n",
       "    </tr>\n",
       "    <tr>\n",
       "      <th>2</th>\n",
       "      <td>0.010913</td>\n",
       "      <td>0.213452</td>\n",
       "      <td>1.000000</td>\n",
       "      <td>0.053524</td>\n",
       "      <td>0.008668</td>\n",
       "      <td>0.023691</td>\n",
       "      <td>0.503760</td>\n",
       "      <td>0.173801</td>\n",
       "      <td>0.212557</td>\n",
       "      <td>0.264345</td>\n",
       "      <td>...</td>\n",
       "      <td>0.164281</td>\n",
       "      <td>0.024675</td>\n",
       "      <td>0.210865</td>\n",
       "      <td>0.090267</td>\n",
       "      <td>0.073326</td>\n",
       "      <td>0.072743</td>\n",
       "      <td>0.169743</td>\n",
       "      <td>0.063468</td>\n",
       "      <td>0.142157</td>\n",
       "      <td>0.059046</td>\n",
       "    </tr>\n",
       "    <tr>\n",
       "      <th>3</th>\n",
       "      <td>0.128380</td>\n",
       "      <td>0.121055</td>\n",
       "      <td>0.053524</td>\n",
       "      <td>1.000000</td>\n",
       "      <td>0.047302</td>\n",
       "      <td>0.013508</td>\n",
       "      <td>0.094347</td>\n",
       "      <td>0.007178</td>\n",
       "      <td>0.038970</td>\n",
       "      <td>0.033275</td>\n",
       "      <td>...</td>\n",
       "      <td>0.038708</td>\n",
       "      <td>0.058857</td>\n",
       "      <td>0.089819</td>\n",
       "      <td>0.041236</td>\n",
       "      <td>0.065553</td>\n",
       "      <td>0.033674</td>\n",
       "      <td>0.056134</td>\n",
       "      <td>0.012206</td>\n",
       "      <td>0.086879</td>\n",
       "      <td>0.005175</td>\n",
       "    </tr>\n",
       "    <tr>\n",
       "      <th>4</th>\n",
       "      <td>0.000153</td>\n",
       "      <td>0.049005</td>\n",
       "      <td>0.008668</td>\n",
       "      <td>0.047302</td>\n",
       "      <td>1.000000</td>\n",
       "      <td>0.107152</td>\n",
       "      <td>0.006356</td>\n",
       "      <td>0.011837</td>\n",
       "      <td>0.025384</td>\n",
       "      <td>0.119503</td>\n",
       "      <td>...</td>\n",
       "      <td>0.049727</td>\n",
       "      <td>0.002086</td>\n",
       "      <td>0.071383</td>\n",
       "      <td>0.011670</td>\n",
       "      <td>0.052507</td>\n",
       "      <td>0.051486</td>\n",
       "      <td>0.067094</td>\n",
       "      <td>0.046138</td>\n",
       "      <td>0.052276</td>\n",
       "      <td>0.045796</td>\n",
       "    </tr>\n",
       "  </tbody>\n",
       "</table>\n",
       "<p>5 rows × 500 columns</p>\n",
       "</div>"
      ],
      "text/plain": [
       "        0         1         2         3         4         5         6    \\\n",
       "0  1.000000  0.255535  0.010913  0.128380  0.000153  0.052586  0.104793   \n",
       "1  0.255535  1.000000  0.213452  0.121055  0.049005  0.093486  0.220597   \n",
       "2  0.010913  0.213452  1.000000  0.053524  0.008668  0.023691  0.503760   \n",
       "3  0.128380  0.121055  0.053524  1.000000  0.047302  0.013508  0.094347   \n",
       "4  0.000153  0.049005  0.008668  0.047302  1.000000  0.107152  0.006356   \n",
       "\n",
       "        7         8         9      ...          490       491       492  \\\n",
       "0  0.146202  0.085376  0.008897    ...     0.049331  0.026491  0.073484   \n",
       "1  0.108324  0.066267  0.083831    ...     0.057018  0.088309  0.066145   \n",
       "2  0.173801  0.212557  0.264345    ...     0.164281  0.024675  0.210865   \n",
       "3  0.007178  0.038970  0.033275    ...     0.038708  0.058857  0.089819   \n",
       "4  0.011837  0.025384  0.119503    ...     0.049727  0.002086  0.071383   \n",
       "\n",
       "        493       494       495       496       497       498       499  \n",
       "0  0.082707  0.090897  0.089149  0.013717  0.129243  0.203573  0.002085  \n",
       "1  0.017420  0.072200  0.025565  0.013527  0.174612  0.194201  0.049441  \n",
       "2  0.090267  0.073326  0.072743  0.169743  0.063468  0.142157  0.059046  \n",
       "3  0.041236  0.065553  0.033674  0.056134  0.012206  0.086879  0.005175  \n",
       "4  0.011670  0.052507  0.051486  0.067094  0.046138  0.052276  0.045796  \n",
       "\n",
       "[5 rows x 500 columns]"
      ]
     },
     "execution_count": 73,
     "metadata": {},
     "output_type": "execute_result"
    }
   ],
   "source": [
    "#convert corr to a dataframe \n",
    "#risk_corr = pd.DataFrame(risk_corr[0])\n",
    "#corr = pd.DataFrame(corr)\n",
    "risk_corr.head()"
   ]
  },
  {
   "cell_type": "code",
   "execution_count": 74,
   "metadata": {},
   "outputs": [
    {
     "name": "stdout",
     "output_type": "stream",
     "text": [
      "[]\n"
     ]
    }
   ],
   "source": [
    "# Select upper triangle of correlation matrix\n",
    "upper = risk_corr.where(np.triu(np.ones(risk_corr.shape), k=1).astype(np.bool))\n",
    "\n",
    "# Find index of feature columns with correlation greater than 0.95\n",
    "risk_to_drop = [column for column in upper.columns if any(upper[column] > 0.95)]\n",
    "\n",
    "# print the features to drop \n",
    "print(risk_to_drop)"
   ]
  },
  {
   "cell_type": "markdown",
   "metadata": {},
   "source": [
    "##### Nothing to drop"
   ]
  },
  {
   "cell_type": "code",
   "execution_count": 75,
   "metadata": {},
   "outputs": [
    {
     "name": "stdout",
     "output_type": "stream",
     "text": [
      "3474\n"
     ]
    }
   ],
   "source": [
    "print(len(risks_tfidf))"
   ]
  },
  {
   "cell_type": "markdown",
   "metadata": {},
   "source": [
    "### 9.2. Check the correlationwith the Target\n"
   ]
  },
  {
   "cell_type": "code",
   "execution_count": 76,
   "metadata": {},
   "outputs": [
    {
     "name": "stdout",
     "output_type": "stream",
     "text": [
      "Target 1.0\n",
      "Closing_Price 0.18774974701045202\n",
      "year 0.1443335123549298\n",
      "quiet_period 0.1441372554045687\n",
      "timestamp 0.1440881112406165\n",
      "filing_date 0.14053487524640673\n",
      "price_range 0.1374508448543756\n",
      "SP1 0.1354251235288925\n",
      "rate 0.12240027281406342\n",
      "ipo_yr_ritt 0.11976396281566634\n"
     ]
    }
   ],
   "source": [
    "#import matplotlib.pyplot as plt\n",
    "dict_corr = corr.Target.to_dict()\n",
    "i=0\n",
    "for w in sorted(dict_corr, key=dict_corr.get, reverse=True):\n",
    "    if i<10:\n",
    "        print (w, dict_corr[w])\n",
    "    i+=1    "
   ]
  },
  {
   "cell_type": "markdown",
   "metadata": {},
   "source": [
    "#### Since the top 10 correlation between a features and the Target is always lower than 0.25, We decide to keep all of our features !"
   ]
  },
  {
   "cell_type": "markdown",
   "metadata": {},
   "source": [
    "## 10 Save to CSV"
   ]
  },
  {
   "cell_type": "code",
   "execution_count": 77,
   "metadata": {},
   "outputs": [
    {
     "data": {
      "text/plain": [
       "(3474, 3719)"
      ]
     },
     "execution_count": 77,
     "metadata": {},
     "output_type": "execute_result"
    }
   ],
   "source": [
    "ipo_processing.shape"
   ]
  },
  {
   "cell_type": "code",
   "execution_count": 78,
   "metadata": {},
   "outputs": [],
   "source": [
    "# Save preprocessed features\n",
    "#Cost TIME\n",
    "ipo_processing[0:3000].to_csv(DATA_FOLDER+'/data_non_textual_clean.csv')\n",
    "ipo_processing[3000:].to_csv(DATA_FOLDER+'/data_non_textual_clean_predict.csv')"
   ]
  },
  {
   "cell_type": "code",
   "execution_count": 79,
   "metadata": {},
   "outputs": [
    {
     "data": {
      "text/plain": [
       "(3474, 501)"
      ]
     },
     "execution_count": 79,
     "metadata": {},
     "output_type": "execute_result"
    }
   ],
   "source": [
    "# add the risks_words to the risks dataframe\n",
    "\n",
    "risks_tfidf['risks_words'] = risks_words\n",
    "risks_tfidf.shape"
   ]
  },
  {
   "cell_type": "code",
   "execution_count": 80,
   "metadata": {},
   "outputs": [],
   "source": [
    "# Save text dataframe\n",
    "\n",
    "risks_tfidf[0:3000].to_csv(DATA_FOLDER+'/data_textual_clean.csv')\n",
    "risks_tfidf[3000:].to_csv(DATA_FOLDER+'/data_textual_clean_predict.csv')"
   ]
  },
  {
   "cell_type": "markdown",
   "metadata": {},
   "source": [
    "# NEXT USE Project_description-2018 notebook"
   ]
  }
 ],
 "metadata": {
  "kernelspec": {
   "display_name": "Python 3",
   "language": "python",
   "name": "python3"
  },
  "language_info": {
   "codemirror_mode": {
    "name": "ipython",
    "version": 3
   },
   "file_extension": ".py",
   "mimetype": "text/x-python",
   "name": "python",
   "nbconvert_exporter": "python",
   "pygments_lexer": "ipython3",
   "version": "3.7.0"
  }
 },
 "nbformat": 4,
 "nbformat_minor": 2
}
